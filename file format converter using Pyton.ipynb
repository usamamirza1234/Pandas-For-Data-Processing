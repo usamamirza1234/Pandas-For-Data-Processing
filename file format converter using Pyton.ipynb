{
 "cells": [
  {
   "cell_type": "code",
   "id": "initial_id",
   "metadata": {
    "collapsed": true,
    "ExecuteTime": {
     "end_time": "2024-05-29T06:35:04.768571Z",
     "start_time": "2024-05-29T06:35:04.757191Z"
    }
   },
   "source": [
    "import pandas as pd\n",
    "import json\n",
    "import glob\n",
    "import re"
   ],
   "outputs": [],
   "execution_count": 32
  },
  {
   "metadata": {
    "ExecuteTime": {
     "end_time": "2024-05-29T06:35:04.885807Z",
     "start_time": "2024-05-29T06:35:04.879659Z"
    }
   },
   "cell_type": "code",
   "source": "schemas = json.load(open('../data/retail_db/schemas.json'))",
   "id": "cfca1e025017a8a8",
   "outputs": [],
   "execution_count": 33
  },
  {
   "metadata": {
    "ExecuteTime": {
     "end_time": "2024-05-29T06:35:04.956222Z",
     "start_time": "2024-05-29T06:35:04.948474Z"
    }
   },
   "cell_type": "code",
   "source": [
    "def get_column_name(schemas, table_name, sorting_key='column_position'):\n",
    "    column_details = schemas[table_name]\n",
    "    columns = sorted(column_details, key=lambda col: col[sorting_key])\n",
    "    return [col['column_name'] for col in columns]"
   ],
   "id": "8db41c37e37ee55",
   "outputs": [],
   "execution_count": 34
  },
  {
   "metadata": {
    "ExecuteTime": {
     "end_time": "2024-05-29T06:35:04.989166Z",
     "start_time": "2024-05-29T06:35:04.968166Z"
    }
   },
   "cell_type": "code",
   "source": "orders_columns =get_column_name(schemas, 'orders')",
   "id": "845d58e18a0b6944",
   "outputs": [],
   "execution_count": 35
  },
  {
   "metadata": {
    "ExecuteTime": {
     "end_time": "2024-05-29T06:35:05.097962Z",
     "start_time": "2024-05-29T06:35:04.989166Z"
    }
   },
   "cell_type": "code",
   "source": "orders = pd.read_csv('../data/retail_db/orders/part-00000',names=orders_columns)",
   "id": "f79c6eb024f1c400",
   "outputs": [],
   "execution_count": 36
  },
  {
   "metadata": {
    "ExecuteTime": {
     "end_time": "2024-05-29T06:35:05.121757Z",
     "start_time": "2024-05-29T06:35:05.097962Z"
    }
   },
   "cell_type": "code",
   "source": "orders",
   "id": "da1e9e4e083f9f10",
   "outputs": [
    {
     "data": {
      "text/plain": [
       "       order_id             order_date  order_customer_id     order_status\n",
       "0             1  2013-07-25 00:00:00.0              11599           CLOSED\n",
       "1             2  2013-07-25 00:00:00.0                256  PENDING_PAYMENT\n",
       "2             3  2013-07-25 00:00:00.0              12111         COMPLETE\n",
       "3             4  2013-07-25 00:00:00.0               8827           CLOSED\n",
       "4             5  2013-07-25 00:00:00.0              11318         COMPLETE\n",
       "...         ...                    ...                ...              ...\n",
       "68878     68879  2014-07-09 00:00:00.0                778         COMPLETE\n",
       "68879     68880  2014-07-13 00:00:00.0               1117         COMPLETE\n",
       "68880     68881  2014-07-19 00:00:00.0               2518  PENDING_PAYMENT\n",
       "68881     68882  2014-07-22 00:00:00.0              10000          ON_HOLD\n",
       "68882     68883  2014-07-23 00:00:00.0               5533         COMPLETE\n",
       "\n",
       "[68883 rows x 4 columns]"
      ],
      "text/html": [
       "<div>\n",
       "<style scoped>\n",
       "    .dataframe tbody tr th:only-of-type {\n",
       "        vertical-align: middle;\n",
       "    }\n",
       "\n",
       "    .dataframe tbody tr th {\n",
       "        vertical-align: top;\n",
       "    }\n",
       "\n",
       "    .dataframe thead th {\n",
       "        text-align: right;\n",
       "    }\n",
       "</style>\n",
       "<table border=\"1\" class=\"dataframe\">\n",
       "  <thead>\n",
       "    <tr style=\"text-align: right;\">\n",
       "      <th></th>\n",
       "      <th>order_id</th>\n",
       "      <th>order_date</th>\n",
       "      <th>order_customer_id</th>\n",
       "      <th>order_status</th>\n",
       "    </tr>\n",
       "  </thead>\n",
       "  <tbody>\n",
       "    <tr>\n",
       "      <th>0</th>\n",
       "      <td>1</td>\n",
       "      <td>2013-07-25 00:00:00.0</td>\n",
       "      <td>11599</td>\n",
       "      <td>CLOSED</td>\n",
       "    </tr>\n",
       "    <tr>\n",
       "      <th>1</th>\n",
       "      <td>2</td>\n",
       "      <td>2013-07-25 00:00:00.0</td>\n",
       "      <td>256</td>\n",
       "      <td>PENDING_PAYMENT</td>\n",
       "    </tr>\n",
       "    <tr>\n",
       "      <th>2</th>\n",
       "      <td>3</td>\n",
       "      <td>2013-07-25 00:00:00.0</td>\n",
       "      <td>12111</td>\n",
       "      <td>COMPLETE</td>\n",
       "    </tr>\n",
       "    <tr>\n",
       "      <th>3</th>\n",
       "      <td>4</td>\n",
       "      <td>2013-07-25 00:00:00.0</td>\n",
       "      <td>8827</td>\n",
       "      <td>CLOSED</td>\n",
       "    </tr>\n",
       "    <tr>\n",
       "      <th>4</th>\n",
       "      <td>5</td>\n",
       "      <td>2013-07-25 00:00:00.0</td>\n",
       "      <td>11318</td>\n",
       "      <td>COMPLETE</td>\n",
       "    </tr>\n",
       "    <tr>\n",
       "      <th>...</th>\n",
       "      <td>...</td>\n",
       "      <td>...</td>\n",
       "      <td>...</td>\n",
       "      <td>...</td>\n",
       "    </tr>\n",
       "    <tr>\n",
       "      <th>68878</th>\n",
       "      <td>68879</td>\n",
       "      <td>2014-07-09 00:00:00.0</td>\n",
       "      <td>778</td>\n",
       "      <td>COMPLETE</td>\n",
       "    </tr>\n",
       "    <tr>\n",
       "      <th>68879</th>\n",
       "      <td>68880</td>\n",
       "      <td>2014-07-13 00:00:00.0</td>\n",
       "      <td>1117</td>\n",
       "      <td>COMPLETE</td>\n",
       "    </tr>\n",
       "    <tr>\n",
       "      <th>68880</th>\n",
       "      <td>68881</td>\n",
       "      <td>2014-07-19 00:00:00.0</td>\n",
       "      <td>2518</td>\n",
       "      <td>PENDING_PAYMENT</td>\n",
       "    </tr>\n",
       "    <tr>\n",
       "      <th>68881</th>\n",
       "      <td>68882</td>\n",
       "      <td>2014-07-22 00:00:00.0</td>\n",
       "      <td>10000</td>\n",
       "      <td>ON_HOLD</td>\n",
       "    </tr>\n",
       "    <tr>\n",
       "      <th>68882</th>\n",
       "      <td>68883</td>\n",
       "      <td>2014-07-23 00:00:00.0</td>\n",
       "      <td>5533</td>\n",
       "      <td>COMPLETE</td>\n",
       "    </tr>\n",
       "  </tbody>\n",
       "</table>\n",
       "<p>68883 rows × 4 columns</p>\n",
       "</div>"
      ]
     },
     "execution_count": 37,
     "metadata": {},
     "output_type": "execute_result"
    }
   ],
   "execution_count": 37
  },
  {
   "metadata": {
    "ExecuteTime": {
     "end_time": "2024-05-29T06:35:05.178729Z",
     "start_time": "2024-05-29T06:35:05.123755Z"
    }
   },
   "cell_type": "code",
   "source": "src_file_names= glob.glob('../data/retail_db/*/part*')",
   "id": "19ff3ff06b740278",
   "outputs": [],
   "execution_count": 38
  },
  {
   "metadata": {
    "ExecuteTime": {
     "end_time": "2024-05-29T06:35:05.238836Z",
     "start_time": "2024-05-29T06:35:05.178729Z"
    }
   },
   "cell_type": "code",
   "source": "src_file_names",
   "id": "3d73e97514a69254",
   "outputs": [
    {
     "data": {
      "text/plain": [
       "['../data/retail_db\\\\categories\\\\part-00000',\n",
       " '../data/retail_db\\\\customers\\\\part-00000',\n",
       " '../data/retail_db\\\\departments\\\\part-00000',\n",
       " '../data/retail_db\\\\orders\\\\part-00000',\n",
       " '../data/retail_db\\\\order_items\\\\part-00000',\n",
       " '../data/retail_db\\\\products\\\\part-00000']"
      ]
     },
     "execution_count": 39,
     "metadata": {},
     "output_type": "execute_result"
    }
   ],
   "execution_count": 39
  },
  {
   "metadata": {
    "ExecuteTime": {
     "end_time": "2024-05-29T06:52:49.985372Z",
     "start_time": "2024-05-29T06:52:49.631362Z"
    }
   },
   "cell_type": "code",
   "source": [
    "for file in src_file_names:\n",
    "    print('Processing; ', file)\n",
    "    file_path_list = re.split(r'[/\\\\]', file)\n",
    "    table_name = file_path_list[-2]\n",
    "    columns = get_column_name(schemas, table_name)\n",
    "    df = pd.read_csv(file, names=columns)\n",
    "    print(f'Shape of {table_name} is {df.shape}')"
   ],
   "id": "5f6f57c8c59a586e",
   "outputs": [
    {
     "name": "stdout",
     "output_type": "stream",
     "text": [
      "Processing;  ../data/retail_db\\categories\\part-00000\n",
      "Shape of categories is (58, 3)\n",
      "Processing;  ../data/retail_db\\customers\\part-00000\n",
      "Shape of customers is (12435, 9)\n",
      "Processing;  ../data/retail_db\\departments\\part-00000\n",
      "Shape of departments is (6, 2)\n",
      "Processing;  ../data/retail_db\\orders\\part-00000\n",
      "Shape of orders is (68883, 4)\n",
      "Processing;  ../data/retail_db\\order_items\\part-00000\n",
      "Shape of order_items is (172198, 6)\n",
      "Processing;  ../data/retail_db\\products\\part-00000\n",
      "Shape of products is (1345, 6)\n"
     ]
    }
   ],
   "execution_count": 52
  },
  {
   "metadata": {},
   "cell_type": "code",
   "outputs": [],
   "execution_count": null,
   "source": "",
   "id": "c9cf7cb583a1f266"
  }
 ],
 "metadata": {
  "kernelspec": {
   "display_name": "Python 3",
   "language": "python",
   "name": "python3"
  },
  "language_info": {
   "codemirror_mode": {
    "name": "ipython",
    "version": 2
   },
   "file_extension": ".py",
   "mimetype": "text/x-python",
   "name": "python",
   "nbconvert_exporter": "python",
   "pygments_lexer": "ipython2",
   "version": "2.7.6"
  }
 },
 "nbformat": 4,
 "nbformat_minor": 5
}
